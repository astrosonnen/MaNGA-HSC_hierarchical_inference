{
 "cells": [
  {
   "cell_type": "markdown",
   "metadata": {},
   "source": [
    "# Problem formulation\n",
    "\n",
    "We wish to constrain the properties of the dark matter halos of central galaxies and their relation with the stellar component (and, eventually, the IMF).\n",
    "The data we would like to use for this purpose consists of:\n",
    "1. Weak lensing measurements from HSC (or Wfirst or Euclid)\n",
    "2. Multiband photometry from SDSS (and HSC for a fraction of the objects)\n",
    "3. Stellar kinematics measurements from MaNGA\n",
    "\n",
    "For most objects we will only have at most two of the three pieces of information listed: MaNGA galaxies will in general not have weak lensing measurements and HSC galaxies with weak lensing measurements will not have MaNGA data.\n",
    "We cannot use both probes simultaneously on a given object, but we can still combine information from lensing and kinematics if we have a model describing how MaNGA galaxies relate to HSC galaxies."
   ]
  },
  {
   "cell_type": "markdown",
   "metadata": {},
   "source": [
    "## The model\n",
    "\n",
    "Let's assume that central galaxies, whether they are selected from MaNGA or from HSC, belong to one family of objects.\n",
    "Let's assume that each object of this family can be described by a set of parameters $\\vec{p}$, describing the stellar component and the dark matter halo. One possible set of parameters is the following:\n",
    "\n",
    "Parameter | Description\n",
    "----------|------------\n",
    "$M_{*}^{MG}$   | True stellar mass defined using the Multi Gaussian expansion formalism\n",
    "$\\alpha_{IMF}$ | IMF normalization: ratio between $M_*$ and the stellar mass inferred assuming an IMF (Chabrier? Salpeter?)\n",
    "$\\beta$       | Orbit anisotropy\n",
    "$i$           | Inclination angle\n",
    "$M_h$         | Halo mass\n",
    "$r_s$         | Halo scale radius\n",
    "$\\gamma_{DM}$ | Halo inner density slope\n",
    "\n",
    "$\\vec{p} = (M_*^{MG}, \\alpha_{IMF}, \\beta, i, M_h, r_s, \\gamma_{DM})$.\n",
    "\n",
    "For simpliciy, let's also write the three parameters describing the halo as\n",
    "\n",
    "$\\vec{p}_{DM} = (M_h, r_s, \\gamma_{DM})$.\n",
    "\n",
    "Let's assume that the the ensemble of values of these parameters for the whole population of centrals is described by some distribution $P$. Let's assume that this distribution has a functional form and can be described by a set of parameters $\\vec{\\eta}$. We call these the *hyper-parameters*.\n",
    "\n",
    "$\\vec{p} \\sim P(\\vec{p}|\\vec{\\eta})$   (\"the parameters $p$ describing individual galaxies are drawn from a distribution $P$ described by hyper-parameters $\\eta$\")\n",
    "\n",
    "Let's also assume that $P$ is separable in five terms: \n",
    "\n",
    "$P(\\vec{p}|\\vec{\\eta}) = D(\\vec{p}_{DM}|M_*^{MG}, \\vec{\\eta})A(\\alpha_{IMF}|\\vec{p}\\vec{\\eta})I(i)B(\\beta|\\vec{\\eta})S(M_*^{MG}, \\vec{\\eta})$. \n",
    "\n",
    "The term $D$ describes the distribution in halo properties, $A$ the distribution in IMF (which in principle can depend on other model parameters, hence the additional dependence on $\\vec{p}$), the term $I$ the distribution in inclination (should be trivial), $B$ the distribution in anisotropy and $S$ the distribution in stellar mass. In writing the above equation we've also assumed that the stellar mass is the independent variable: the dark matter halo depends on stellar mass (in principle we can also write it the other way around, where the halo mass is the independent variable).\n",
    "\n",
    "At this point we need to assume a functional form for $D$, $A$, $I$, $B$ and $S$. We know that $I$ is a uniform distribution on a sphere. We can then assume that $D$ is a multivariate Gaussian with mean $\\vec{\\mu_{DM}}(M_*^{MG})$ and covariance matrix $C_{DM}$. We can also assume that $A$, $B$ and $S$ are themselves Gaussian with mean $\\mu_{IMF}$, $\\mu_{anis}$, $\\mu_*$ and dispersion $\\sigma_{IMF}$, $\\sigma_{anis}$ and $\\sigma_*$.\n",
    "\n",
    "Then the distribution of central galaxies in the 7-dimensional space defined by $(M_*^{MG}, \\alpha_{IMF}, \\beta, i, M_h, r_s, \\gamma_{DM})$ is the product of four Gaussians and one uniform distribution, described by a set of hyper-parameters $\\vec{\\eta} = (\\vec{\\mu_{DM}}, C_{DM}, \\mu_{IMF}, \\sigma_{IMF}, \\mu_{anis}, \\sigma_{anis}, \\mu_*, \\sigma_*)$.\n",
    "\n",
    "Our goal is to constrain these parameters using weak lensing and stellar kinematics data."
   ]
  },
  {
   "cell_type": "markdown",
   "metadata": {},
   "source": [
    "## The data\n",
    "\n",
    "We have $N$ central galaxies. All of them have photometric measurements from Multi Gaussian expansion.\n",
    "\n",
    "We call this data $\\vec{d_{phot}}$.\n",
    "\n",
    "For some objects, we also have stellar kinematics data from MaNGA, which we call $\\vec{d_{kin}}$.\n",
    "\n",
    "For some other objects, we have weak lensing measurements $\\vec{d_{WL}}$.\n",
    "\n",
    "In summary:\n",
    "\n",
    "Observable | Description\n",
    "----------|------------\n",
    "$\\vec{d_{phot}}$ | five-band photometry from SDSS\n",
    "$\\vec{d_{kin}}$ | stellar kinematics measurements from MaNGA\n",
    "$\\vec{d_{WL}}$ | Shape measurements from HSC\n"
   ]
  },
  {
   "cell_type": "markdown",
   "metadata": {},
   "source": [
    "## The inference\n",
    "\n",
    "We want to calculate the probability distribution of the hyper-parameters $\\vec{\\eta}$ given the data. From Bayes' theorem,\n",
    "\n",
    "$P(\\vec{\\eta}|\\vec{d}) \\propto P(\\vec{\\eta})P(\\vec{d}|\\vec{\\eta})$\n",
    "\n",
    "where $\\vec{d}$ is the data, $P(\\vec{\\eta})$ is the prior on the hyper-parameters and $P(\\vec{d}|\\vec{\\eta})$ is the likelihood of observing the data given the hyper-parameters. Let's look at this last piece. This is a product over all galaxies:\n",
    "\n",
    "$P(\\vec{d}|\\vec{\\eta}) = \\prod_i P(\\vec{d_i}|\\vec{\\eta})$\n",
    "\n",
    "To evaluate the likelihood we need to predict the photometry, weak lensing signal and kinematics for each object, given the value of the hyper-parameters. However, this predicted data depends on the individual values of the stellar mass, halo mass etc.. The hyper-parameters don't tell us exactly what these are, but give us a probability distribution instead, which we called $P(\\vec{p_i}|\\vec{\\eta})$. Therefore we need to marginalize over this distribution:\n",
    "\n",
    "$P(\\vec{d_i}|\\vec{\\eta}) = \\int d\\vec{p_i} P(\\vec{d_i}|\\vec{p_i})P(\\vec{p_i}|\\vec{\\eta})$.\n",
    "\n",
    "Since weak lensing, stellar kinematics and photometry are (roughly) independent we can also write\n",
    "\n",
    "$P(\\vec{d_i}|\\vec{\\eta}) = \\int d\\vec{p}_{DM,i} d\\beta_i di_i dM_{*,i} P(\\vec{d_{phot,i}}|\\alpha_{IMF,i},M_{*,i})P(\\vec{d_{WL,i}}|\\vec{p}_{DM,i})P(\\vec{d_{kin,i}}|M_*, \\beta_i, i_i, \\vec{p}_{DM,i})P(\\vec{p}_{DM,i}, M_{*,i}, \\alpha_{IMF, i}, \\beta_i, i_i|\\vec{\\eta})$\n",
    "\n",
    "We know how to evaluate $P(\\vec{p_i}|\\vec{\\eta})$, that's our product of Gaussians. We also know how to compute the other three pieces, from the stellar kinematics, weak lensing and SPS analysis. All that's left to do is to compute that integral and explore the parameter space with an MCMC. It doesn't matter that some objects don't have weak lensing data and some other objects don't have kinematics, we just drop the corresponding term in the likelihood."
   ]
  },
  {
   "cell_type": "code",
   "execution_count": null,
   "metadata": {
    "collapsed": true
   },
   "outputs": [],
   "source": []
  }
 ],
 "metadata": {
  "kernelspec": {
   "display_name": "Python 2",
   "language": "python",
   "name": "python2"
  },
  "language_info": {
   "codemirror_mode": {
    "name": "ipython",
    "version": 2
   },
   "file_extension": ".py",
   "mimetype": "text/x-python",
   "name": "python",
   "nbconvert_exporter": "python",
   "pygments_lexer": "ipython2",
   "version": "2.7.10"
  }
 },
 "nbformat": 4,
 "nbformat_minor": 0
}
