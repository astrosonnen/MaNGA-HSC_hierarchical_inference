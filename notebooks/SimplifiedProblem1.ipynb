{
 "cells": [
  {
   "cell_type": "markdown",
   "metadata": {},
   "source": [
    "# Problem 1: NFW halos with kinematics only\n",
    "\n",
    "Let's simplify the problem by considering NFW halos and ignoring the IMF, and by using only stellar kinematics constraints."
   ]
  },
  {
   "cell_type": "markdown",
   "metadata": {},
   "source": [
    "## The model\n",
    "\n",
    "Let's assume that central galaxies, whether they are selected from MaNGA or from HSC, belong to one family of objects.\n",
    "Let's assume that each object of this family can be described by a set of parameters $\\vec{p}$, describing the stellar component and the dark matter halo. One possible set of parameters is the following:\n",
    "\n",
    "Parameter | Description\n",
    "----------|------------\n",
    "$M_{*}^{MG}$   | True stellar mass defined using the Multi Gaussian expansion formalism\n",
    "$\\beta$       | Orbit anisotropy\n",
    "$i$           | Inclination angle\n",
    "$M_h$         | Halo mass\n",
    "$r_s$         | Halo scale radius\n",
    "\n",
    "$\\vec{p} = (M_*^{MG}, \\beta, i, M_h, r_s)$.\n",
    "\n",
    "For simpliciy, let's also write the three parameters describing the halo as\n",
    "\n",
    "$\\vec{p}_{DM} = (M_h, r_s)$.\n",
    "\n",
    "Let's assume that the the ensemble of values of these parameters for the whole population of centrals is described by some distribution $P$. Let's assume that this distribution has a functional form and can be described by a set of parameters $\\vec{\\eta}$. We call these the *hyper-parameters*.\n",
    "\n",
    "$\\vec{p} \\sim P(\\vec{p}|\\vec{\\eta})$   (\"the parameters $p$ describing individual galaxies are drawn from a distribution $P$ described by hyper-parameters $\\eta$\")\n",
    "\n",
    "Let's also assume that $P$ is separable in five terms: \n",
    "\n",
    "$P(\\vec{p}|\\vec{\\eta}) = D(\\vec{p}_{DM}, M_*^{MG}|\\vec{\\eta})I(i)B(\\beta|\\vec{\\eta})$. \n",
    "\n",
    "The term $D$ describes the distribution in halo and stellar mass properties, the term $I$ the distribution in inclination (should be trivial), $B$ the distribution in anisotropy.\n",
    "\n",
    "At this point we need to assume a functional form for $D$, $I$ and $B$. We know that $I$ is a uniform distribution on a sphere. We can also assume that $B$ is a Gaussian with mean $\\mu_{anis}$ and dispersion $\\sigma_{anis}$. \n",
    "We then factorize $D$ as follows,\n",
    "\n",
    "$D(\\vec{p}_{DM}|\\vec{\\eta}) = H(M_h|\\vec{\\eta})C(r_s|M_h,\\vec{\\eta})M(M_*|M_h,\\vec{\\eta})$,\n",
    "\n",
    "where $H$ is some simple function (Gaussian?) of halo mass, describing the halo mass distribution of our groups, $C$ is a mass-concentration relation and $M$ is the canonical stellar-to-halo mass relation. Each term is described by  hyperparameters, some of which may be kept fixed (delta function prior on those hyperparameters).\n",
    "Our goal is to constrain these hyparameters using stellar kinematics data."
   ]
  },
  {
   "cell_type": "markdown",
   "metadata": {},
   "source": [
    "## The data\n",
    "\n",
    "Observable | Description\n",
    "----------|------------\n",
    "$\\vec{d_{kin}}$ | stellar kinematics measurements from MaNGA\n"
   ]
  },
  {
   "cell_type": "markdown",
   "metadata": {},
   "source": [
    "## The inference\n",
    "\n",
    "We want to calculate the probability distribution of the hyper-parameters $\\vec{\\eta}$ given the data. From Bayes' theorem,\n",
    "\n",
    "$P(\\vec{\\eta}|\\vec{d}) \\propto P(\\vec{\\eta})P(\\vec{d}|\\vec{\\eta})$\n",
    "\n",
    "where $\\vec{d}$ is the data, $P(\\vec{\\eta})$ is the prior on the hyper-parameters and $P(\\vec{d}|\\vec{\\eta})$ is the likelihood of observing the data given the hyper-parameters. Let's look at this last piece. This is a product over all galaxies:\n",
    "\n",
    "$P(\\vec{d}|\\vec{\\eta}) = \\prod_i P(\\vec{d_i}|\\vec{\\eta})$\n",
    "\n",
    "To evaluate the likelihood we need to predict the kinematics signal for each object, given the value of the hyper-parameters. However, this predicted data depends on the individual values of the stellar mass, halo mass etc.. The hyper-parameters don't tell us exactly what these are, but give us a probability distribution instead, which we called $P(\\vec{p_i}|\\vec{\\eta})$. Therefore we need to marginalize over this distribution:\n",
    "\n",
    "$P(\\vec{d_i}|\\vec{\\eta}) = \\int d\\vec{p_i} P(\\vec{d_i}|\\vec{p_i})P(\\vec{p_i}|\\vec{\\eta})$.\n",
    "\n",
    "More in detail,\n",
    "\n",
    "$P(\\vec{d_i}|\\vec{\\eta}) = \\int d\\vec{p}_{DM,i} d\\beta_i di_i dM_{*,i} P(\\vec{d_{kin,i}}|M_*, \\beta_i, i_i, \\vec{p}_{DM,i})P(\\vec{p}_{DM,i}, M_{*,i}, \\beta_i, i_i|\\vec{\\eta})$\n",
    "\n",
    "We know how to evaluate $P(\\vec{p_i}|\\vec{\\eta})$ since we've chosen a parametrized form for that distribution. We also know how to compute the other piece, from the stellar kinematics analysis. All that's left to do is to compute that integral and explore the parameter space with an MCMC. It doesn't matter that some objects don't have weak lensing data and some other objects don't have kinematics, we just drop the corresponding term in the likelihood."
   ]
  },
  {
   "cell_type": "code",
   "execution_count": null,
   "metadata": {
    "collapsed": true
   },
   "outputs": [],
   "source": []
  }
 ],
 "metadata": {
  "kernelspec": {
   "display_name": "Python 2",
   "language": "python",
   "name": "python2"
  },
  "language_info": {
   "codemirror_mode": {
    "name": "ipython",
    "version": 2
   },
   "file_extension": ".py",
   "mimetype": "text/x-python",
   "name": "python",
   "nbconvert_exporter": "python",
   "pygments_lexer": "ipython2",
   "version": "2.7.10"
  }
 },
 "nbformat": 4,
 "nbformat_minor": 0
}
